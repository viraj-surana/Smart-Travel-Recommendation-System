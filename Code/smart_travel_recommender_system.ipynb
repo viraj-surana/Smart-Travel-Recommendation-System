{
  "cells": [
    {
      "cell_type": "markdown",
      "metadata": {
        "id": "88OUrivJeUNw"
      },
      "source": [
        "**Step 1: Fetch Weather & Temperature Data**"
      ]
    },
    {
      "cell_type": "code",
      "execution_count": null,
      "metadata": {
        "colab": {
          "base_uri": "https://localhost:8080/"
        },
        "id": "oF2O8h6IWWAi",
        "outputId": "43966e02-376b-41f6-8aec-a7b50549fcf6"
      },
      "outputs": [
        {
          "name": "stdout",
          "output_type": "stream",
          "text": [
            "Dataset Preview:\n",
            "    Trip ID       Destination Start date   End date  Duration (days)  \\\n",
            "0        1        London, UK   5/1/2023   5/8/2023              7.0   \n",
            "1        2  Phuket, Thailand  6/15/2023  6/20/2023              5.0   \n",
            "2        3   Bali, Indonesia   7/1/2023   7/8/2023              7.0   \n",
            "3        4     New York, USA  8/15/2023  8/29/2023             14.0   \n",
            "4        5      Tokyo, Japan  9/10/2023  9/17/2023              7.0   \n",
            "\n",
            "   Traveler name  Traveler age Traveler gender Traveler nationality  \\\n",
            "0     John Smith          35.0            Male             American   \n",
            "1       Jane Doe          28.0          Female             Canadian   \n",
            "2      David Lee          45.0            Male               Korean   \n",
            "3  Sarah Johnson          29.0          Female              British   \n",
            "4     Kim Nguyen          26.0          Female           Vietnamese   \n",
            "\n",
            "  Accommodation type Accommodation cost Transportation type  \\\n",
            "0              Hotel               1200              Flight   \n",
            "1             Resort                800              Flight   \n",
            "2              Villa               1000              Flight   \n",
            "3              Hotel               2000              Flight   \n",
            "4             Airbnb                700               Train   \n",
            "\n",
            "  Transportation cost  \n",
            "0                 600  \n",
            "1                 500  \n",
            "2                 700  \n",
            "3                1000  \n",
            "4                 200  \n",
            "\n",
            "Updated Dataset with Weather Information:\n",
            "    Trip ID       Destination Start date   End date  Duration (days)  \\\n",
            "0        1        London, UK   5/1/2023   5/8/2023              7.0   \n",
            "1        2  Phuket, Thailand  6/15/2023  6/20/2023              5.0   \n",
            "2        3   Bali, Indonesia   7/1/2023   7/8/2023              7.0   \n",
            "3        4     New York, USA  8/15/2023  8/29/2023             14.0   \n",
            "4        5      Tokyo, Japan  9/10/2023  9/17/2023              7.0   \n",
            "\n",
            "   Traveler name  Traveler age Traveler gender Traveler nationality  \\\n",
            "0     John Smith          35.0            Male             American   \n",
            "1       Jane Doe          28.0          Female             Canadian   \n",
            "2      David Lee          45.0            Male               Korean   \n",
            "3  Sarah Johnson          29.0          Female              British   \n",
            "4     Kim Nguyen          26.0          Female           Vietnamese   \n",
            "\n",
            "  Accommodation type Accommodation cost Transportation type  \\\n",
            "0              Hotel               1200              Flight   \n",
            "1             Resort                800              Flight   \n",
            "2              Villa               1000              Flight   \n",
            "3              Hotel               2000              Flight   \n",
            "4             Airbnb                700               Train   \n",
            "\n",
            "  Transportation cost  Temperature  Weather  \n",
            "0                 600        13.37        1  \n",
            "1                 500        32.12        3  \n",
            "2                 700        24.42        7  \n",
            "3                1000        -0.22        2  \n",
            "4                 200        14.37        2  \n"
          ]
        },
        {
          "name": "stderr",
          "output_type": "stream",
          "text": [
            "<ipython-input-11-dd66e5a84ac1>:48: FutureWarning: A value is trying to be set on a copy of a DataFrame or Series through chained assignment using an inplace method.\n",
            "The behavior will change in pandas 3.0. This inplace method will never work because the intermediate object on which we are setting values always behaves as a copy.\n",
            "\n",
            "For example, when doing 'df[col].method(value, inplace=True)', try using 'df.method({col: value}, inplace=True)' or df[col] = df[col].method(value) instead, to perform the operation inplace on the original object.\n",
            "\n",
            "\n",
            "  df[\"Temperature\"].fillna(df[\"Temperature\"].mean(), inplace=True)\n"
          ]
        }
      ],
      "source": [
        "import pandas as pd\n",
        "import requests\n",
        "import numpy as np\n",
        "\n",
        "# Loading the dataset\n",
        "file_path = \"/content/Traveler_Trip_Dataset.csv\"\n",
        "df = pd.read_csv(file_path)\n",
        "\n",
        "# Displaying the first few rows of the dataset\n",
        "print(\"Dataset Preview:\\n\", df.head())\n",
        "\n",
        "# OpenWeatherMap API Key\n",
        "API_KEY = \" \" # Replace space with your own API key\n",
        "\n",
        "# Function to fetch weather data\n",
        "def get_weather(city):\n",
        "    if pd.isna(city):  # Handling NaN values\n",
        "        return np.nan, \"Unknown\"\n",
        "\n",
        "    base_url = \"http://api.openweathermap.org/data/2.5/weather\"\n",
        "    params = {\"q\": city, \"appid\": API_KEY, \"units\": \"metric\"}\n",
        "    try:\n",
        "        response = requests.get(base_url, params=params, timeout=5)\n",
        "        response.raise_for_status()\n",
        "        data = response.json()\n",
        "        return data[\"main\"][\"temp\"], data[\"weather\"][0][\"description\"]\n",
        "    except:\n",
        "        return np.nan, \"Unknown\"\n",
        "\n",
        "# Dropping NaN values in \"Destination\" before fetching unique destinations\n",
        "df.dropna(subset=[\"Destination\"], inplace=True)\n",
        "\n",
        "# Extracting unique destinations and fetching weather data\n",
        "unique_destinations = df[\"Destination\"].unique()\n",
        "weather_data = {city: get_weather(city) for city in unique_destinations}\n",
        "\n",
        "# Applying weather data safely\n",
        "df[\"Weather_Data\"] = df[\"Destination\"].map(weather_data)\n",
        "\n",
        "# Expanding tuples into separate columns\n",
        "df[\"Temperature\"] = df[\"Weather_Data\"].apply(lambda x: x[0] if isinstance(x, tuple) else np.nan)\n",
        "df[\"Weather\"] = df[\"Weather_Data\"].apply(lambda x: x[1] if isinstance(x, tuple) else \"Unknown\")\n",
        "\n",
        "# Dropping temporary column\n",
        "df.drop(columns=[\"Weather_Data\"], inplace=True)\n",
        "\n",
        "# Handling missing values\n",
        "df[\"Temperature\"].fillna(df[\"Temperature\"].mean(), inplace=True)\n",
        "df[\"Weather\"] = df[\"Weather\"].astype(str)\n",
        "\n",
        "# Encoding weather as categorical data\n",
        "df[\"Weather\"] = df[\"Weather\"].astype(\"category\").cat.codes\n",
        "\n",
        "print(\"\\nUpdated Dataset with Weather Information:\\n\", df.head())\n"
      ]
    },
    {
      "cell_type": "markdown",
      "metadata": {
        "id": "t_TFGt16XDsS"
      },
      "source": [
        "**Step 2: Data Cleaning & Preprocessing**"
      ]
    },
    {
      "cell_type": "code",
      "execution_count": 12,
      "metadata": {
        "colab": {
          "base_uri": "https://localhost:8080/"
        },
        "id": "zk8gRtqdXEpT",
        "outputId": "d2743444-fec7-4fff-aebe-d52e0a5310d5"
      },
      "outputs": [
        {
          "name": "stdout",
          "output_type": "stream",
          "text": [
            "Data Cleaning & Encoding Complete!\n",
            "\n",
            "   Trip ID  Destination  Start date    End date  Duration (days)  \\\n",
            "0        1           30    5/1/2023    5/8/2023              7.0   \n",
            "1        2           42   6/15/2023   6/20/2023              5.0   \n",
            "2        3            6    7/1/2023    7/8/2023              7.0   \n",
            "3        4           36   8/15/2023   8/29/2023             14.0   \n",
            "4        5           57   9/10/2023   9/17/2023              7.0   \n",
            "5        6           38   10/5/2023  10/10/2023              5.0   \n",
            "6        7           54  11/20/2023  11/30/2023             10.0   \n",
            "7        8           44    1/5/2024   1/12/2024              7.0   \n",
            "8        9            1   2/14/2024   2/21/2024              7.0   \n",
            "9       10           20   3/10/2024   3/17/2024              7.0   \n",
            "\n",
            "   Traveler name  Traveler age Traveler gender Traveler nationality  \\\n",
            "0     John Smith          35.0            Male             American   \n",
            "1       Jane Doe          28.0          Female             Canadian   \n",
            "2      David Lee          45.0            Male               Korean   \n",
            "3  Sarah Johnson          29.0          Female              British   \n",
            "4     Kim Nguyen          26.0          Female           Vietnamese   \n",
            "5  Michael Brown          42.0            Male             American   \n",
            "6    Emily Davis          33.0          Female           Australian   \n",
            "7   Lucas Santos          25.0            Male            Brazilian   \n",
            "8  Laura Janssen          31.0          Female                Dutch   \n",
            "9   Mohammed Ali          39.0            Male              Emirati   \n",
            "\n",
            "  Accommodation type  Accommodation cost Transportation type  \\\n",
            "0              Hotel              1200.0              Flight   \n",
            "1             Resort               800.0              Flight   \n",
            "2              Villa              1000.0              Flight   \n",
            "3              Hotel              2000.0              Flight   \n",
            "4             Airbnb               700.0               Train   \n",
            "5              Hotel              1500.0              Flight   \n",
            "6             Hostel               500.0              Flight   \n",
            "7             Airbnb               900.0              Flight   \n",
            "8              Hotel              1200.0               Train   \n",
            "9             Resort              2500.0              Flight   \n",
            "\n",
            "   Transportation cost  Temperature  Weather  \n",
            "0                600.0        13.37        1  \n",
            "1                500.0        32.12        3  \n",
            "2                700.0        24.42        7  \n",
            "3               1000.0        -0.22        2  \n",
            "4                200.0        14.37        2  \n",
            "5                800.0        11.86        5  \n",
            "6               1200.0        20.92        1  \n",
            "7                600.0        25.75        2  \n",
            "8                200.0        15.36        8  \n",
            "9                800.0        34.96        2  \n"
          ]
        }
      ],
      "source": [
        "from sklearn.preprocessing import LabelEncoder\n",
        "\n",
        "# Handling missing values\n",
        "df.ffill(inplace=True)  # Forward fill\n",
        "\n",
        "# Encoding categorical columns\n",
        "categorical_columns = [\"Destination\", \"Traveler Type\", \"Purpose\"]\n",
        "label_encoders = {}\n",
        "for col in categorical_columns:\n",
        "    if col in df.columns:\n",
        "        le = LabelEncoder()\n",
        "        df[col] = le.fit_transform(df[col])\n",
        "        label_encoders[col] = le\n",
        "\n",
        "# Converting numeric values properly\n",
        "numeric_columns = [\"Accommodation cost\", \"Transportation cost\", \"Duration (days)\"]\n",
        "df[numeric_columns] = df[numeric_columns].apply(pd.to_numeric, errors='coerce')\n",
        "\n",
        "# Filling NaN values in numeric columns with the median\n",
        "df[numeric_columns] = df[numeric_columns].fillna(df[numeric_columns].median())\n",
        "\n",
        "print(\"Data Cleaning & Encoding Complete!\\n\")\n",
        "print(df.head(10))\n"
      ]
    },
    {
      "cell_type": "markdown",
      "metadata": {
        "id": "oH2K7-6NXOix"
      },
      "source": [
        "**Step 3: Feature Engineering**"
      ]
    },
    {
      "cell_type": "code",
      "execution_count": 13,
      "metadata": {
        "colab": {
          "base_uri": "https://localhost:8080/"
        },
        "id": "xi84zY2aXQGK",
        "outputId": "a0e0a67c-f53c-4c2d-de69-560c522df869"
      },
      "outputs": [
        {
          "name": "stdout",
          "output_type": "stream",
          "text": [
            "Feature Engineering Complete!\n"
          ]
        }
      ],
      "source": [
        "from sklearn.preprocessing import StandardScaler\n",
        "from imblearn.over_sampling import RandomOverSampler\n",
        "\n",
        "# Derived features\n",
        "df[\"Cost per day\"] = (df[\"Accommodation cost\"] + df[\"Transportation cost\"]) / df[\"Duration (days)\"]\n",
        "df[\"Trip length category\"] = pd.cut(df[\"Duration (days)\"], bins=[0, 5, 10, 15], labels=[\"Short\", \"Medium\", \"Long\"])\n",
        "\n",
        "# Encoding categorical features\n",
        "categorical_columns = [\"Trip length category\", \"Transportation type\", \"Accommodation type\"]\n",
        "for col in categorical_columns:\n",
        "    if col in df.columns:\n",
        "        le = LabelEncoder()\n",
        "        df[col] = le.fit_transform(df[col])\n",
        "\n",
        "# Selecting features & target\n",
        "features = [\"Traveler age\", \"Duration (days)\", \"Accommodation cost\", \"Transportation cost\",\n",
        "            \"Cost per day\", \"Trip length category\", \"Transportation type\", \"Accommodation type\",\n",
        "            \"Weather\", \"Temperature\"]\n",
        "target = \"Destination\"\n",
        "\n",
        "X = df[features]\n",
        "y = df[target]\n",
        "\n",
        "# Handling class imbalance\n",
        "oversampler = RandomOverSampler(random_state=42)\n",
        "X_resampled, y_resampled = oversampler.fit_resample(X, y)\n",
        "\n",
        "# Normalizing the features\n",
        "scaler = StandardScaler()\n",
        "X_resampled = scaler.fit_transform(X_resampled)\n",
        "\n",
        "print(\"Feature Engineering Complete!\")\n"
      ]
    },
    {
      "cell_type": "markdown",
      "metadata": {
        "id": "3Y9wD-3sXUni"
      },
      "source": [
        "**Step 4: Sentiment Analysis**"
      ]
    },
    {
      "cell_type": "code",
      "execution_count": 14,
      "metadata": {
        "colab": {
          "base_uri": "https://localhost:8080/"
        },
        "id": "0bXIwr4aXVnR",
        "outputId": "27975f2d-f5f5-4087-c3e6-3a995ace129d"
      },
      "outputs": [
        {
          "name": "stderr",
          "output_type": "stream",
          "text": [
            "[nltk_data] Downloading package vader_lexicon to /root/nltk_data...\n",
            "[nltk_data]   Package vader_lexicon is already up-to-date!\n"
          ]
        },
        {
          "name": "stdout",
          "output_type": "stream",
          "text": [
            "How are you feeling about your trip? (Excited, Nervous, etc.): Thrilled\n",
            "\n",
            "📝 Sentiment Analysis Result:\n",
            "   - User Mood: Thrilled\n",
            "   - Sentiment Category: Positive\n",
            "   - Sentiment Score: 0.4404\n",
            "\n",
            "Sentiment Analysis Complete!\n"
          ]
        }
      ],
      "source": [
        "import nltk\n",
        "from nltk.sentiment import SentimentIntensityAnalyzer\n",
        "from sklearn.preprocessing import LabelEncoder\n",
        "\n",
        "# Download VADER lexicon (if not already downloaded)\n",
        "nltk.download(\"vader_lexicon\")\n",
        "\n",
        "# Initializing Sentiment Analyzer\n",
        "sia = SentimentIntensityAnalyzer()\n",
        "\n",
        "# User mood input\n",
        "user_mood = input(\"How are you feeling about your trip? (Excited, Nervous, etc.): \").strip().capitalize()\n",
        "\n",
        "# Predefined mood sentiments\n",
        "mood_mapping = {\n",
        "    \"Excited\": \"Positive\", \"Happy\": \"Positive\", \"Thrilled\": \"Positive\",\n",
        "    \"Relaxed\": \"Positive\", \"Content\": \"Positive\", \"Adventurous\": \"Positive\",\n",
        "    \"Neutral\": \"Neutral\", \"Okay\": \"Neutral\", \"Fine\": \"Neutral\",\n",
        "    \"Nervous\": \"Negative\", \"Worried\": \"Negative\", \"Anxious\": \"Negative\",\n",
        "    \"Stressed\": \"Negative\", \"Tired\": \"Negative\", \"Sad\": \"Negative\",\n",
        "    \"Fearful\": \"Negative\", \"Disappointed\": \"Negative\"\n",
        "}\n",
        "\n",
        "# Assigning sentiment category based on predefined mapping\n",
        "sentiment_category = mood_mapping.get(user_mood, \"Neutral\")\n",
        "\n",
        "# Calculating sentiment score using VADER\n",
        "sentiment_score = sia.polarity_scores(user_mood)[\"compound\"]\n",
        "\n",
        "# Print Sentiment Analysis Output\n",
        "print(f\"\\n📝 Sentiment Analysis Result:\")\n",
        "print(f\"   - User Mood: {user_mood}\")\n",
        "print(f\"   - Sentiment Category: {sentiment_category}\")\n",
        "print(f\"   - Sentiment Score: {sentiment_score:.4f}\")\n",
        "print(\"\\nSentiment Analysis Complete!\")"
      ]
    },
    {
      "cell_type": "markdown",
      "metadata": {
        "id": "tDDHDntuXbt6"
      },
      "source": [
        "**Step 5: Model Selection & Training**"
      ]
    },
    {
      "cell_type": "code",
      "execution_count": 15,
      "metadata": {
        "colab": {
          "base_uri": "https://localhost:8080/"
        },
        "id": "DiRMzURzX6tS",
        "outputId": "b32f9a7c-63cb-4296-f874-c2f4a638387c"
      },
      "outputs": [
        {
          "name": "stdout",
          "output_type": "stream",
          "text": [
            "\n",
            "✅ Model Training Complete! Accuracy: 96.39%\n",
            "📁 Model saved successfully as: /content/smart_travel_recommendation.pkl\n"
          ]
        }
      ],
      "source": [
        "from xgboost import XGBClassifier\n",
        "from sklearn.model_selection import train_test_split\n",
        "from sklearn.metrics import accuracy_score\n",
        "import pickle  # To save the trained model\n",
        "\n",
        "def train_xgboost_model(X, y):\n",
        "    \"\"\"\n",
        "    Train an XGBoost model and return the trained model along with accuracy.\n",
        "    \"\"\"\n",
        "    # Train-test split (80% training, 20% testing)\n",
        "    X_train, X_test, y_train, y_test = train_test_split(X, y, test_size=0.2, random_state=42, stratify=y)\n",
        "\n",
        "    # Initializing XGBoost model (Removed use_label_encoder=False to avoid warnings)\n",
        "    model = XGBClassifier(eval_metric=\"mlogloss\", random_state=42)\n",
        "\n",
        "    # Training the model\n",
        "    model.fit(X_train, y_train)\n",
        "\n",
        "    # Predicting on test data\n",
        "    y_pred = model.predict(X_test)\n",
        "\n",
        "    # Calculating accuracy\n",
        "    accuracy = accuracy_score(y_test, y_pred) * 100\n",
        "\n",
        "    print(f\"\\n✅ Model Training Complete! Accuracy: {accuracy:.2f}%\")\n",
        "\n",
        "    # Saving the trained model as a pickle file(.pkl file)\n",
        "    model_filename = \"/content/smart_travel_recommendation.pkl\"\n",
        "    with open(model_filename, \"wb\") as model_file:\n",
        "        pickle.dump(model, model_file)\n",
        "\n",
        "    print(f\"📁 Model saved successfully as: {model_filename}\")\n",
        "\n",
        "    return model, model_filename\n",
        "\n",
        "# Training the model and getting the saved model file path\n",
        "trained_model, model_path = train_xgboost_model(X_resampled, y_resampled)\n"
      ]
    },
    {
      "cell_type": "markdown",
      "metadata": {
        "id": "gU34ZZ4OadTB"
      },
      "source": [
        "**Step 6: Interactive Recommendation System**"
      ]
    },
    {
      "cell_type": "code",
      "execution_count": 17,
      "metadata": {
        "colab": {
          "base_uri": "https://localhost:8080/"
        },
        "id": "muB1U6Rqac2T",
        "outputId": "3d712bbf-d399-4b65-cb97-c851b1a7edc5"
      },
      "outputs": [
        {
          "name": "stdout",
          "output_type": "stream",
          "text": [
            "Enter your age: 21\n",
            "Enter your budget per day: 250\n",
            "Enter trip type (Short, Medium, Long): Medium\n",
            "\n",
            "✅ Recommended Destinations:\n",
            "   1. Bangkok\n",
            "   2. Greece\n",
            "   3. Dubai\n"
          ]
        }
      ],
      "source": [
        "def recommend_trip(age, budget, trip_type, scaler, model, feature_names, label_encoders, top_n=3):\n",
        "    \"\"\"\n",
        "    Recommend the best destinations based on user inputs.\n",
        "    Ensures input matches the trained model’s expected feature format.\n",
        "    \"\"\"\n",
        "    # Ensuring trip_type is encoded correctly\n",
        "    trip_type_mapping = {\"Short\": 0, \"Medium\": 1, \"Long\": 2}\n",
        "    trip_type_encoded = trip_type_mapping.get(trip_type, 1)  # Default to \"Medium\" if input is invalid\n",
        "\n",
        "    # Creating a DataFrame with the same structure as training data\n",
        "    input_data = pd.DataFrame(columns=feature_names)\n",
        "\n",
        "    # Filling in user inputs\n",
        "    input_data[\"Traveler age\"] = [age]\n",
        "    input_data[\"Cost per day\"] = [budget]\n",
        "    input_data[\"Trip length category\"] = [trip_type_encoded]\n",
        "\n",
        "    # Filling in other required features with default values (median for numeric, mode for categorical)\n",
        "    for col in feature_names:\n",
        "        if col not in input_data.columns:\n",
        "            if col in [\"Weather\", \"Temperature\", \"Accommodation cost\", \"Transportation cost\", \"Duration (days)\"]:\n",
        "                input_data[col] = df[col].median()\n",
        "            else:\n",
        "                input_data[col] = df[col].mode()[0]  # Most frequent category\n",
        "\n",
        "    # Ensuring columns are in the correct order\n",
        "    input_data = input_data[feature_names]\n",
        "\n",
        "    # Normalizing using the same scaler as training\n",
        "    input_scaled = scaler.transform(input_data)\n",
        "\n",
        "    # Making a prediction (returning probabilities for multiple recommendations)\n",
        "    prediction_probs = model.predict_proba(input_scaled)\n",
        "\n",
        "    # Getting top N destinations with highest probabilities\n",
        "    top_indices = np.argsort(prediction_probs[0])[-top_n:][::-1]\n",
        "    top_destinations = label_encoders[\"Destination\"].inverse_transform(top_indices)\n",
        "\n",
        "    return top_destinations\n",
        "\n",
        "# Example user input\n",
        "user_age = int(input(\"Enter your age: \"))\n",
        "user_budget = float(input(\"Enter your budget per day: \"))\n",
        "user_trip_type = input(\"Enter trip type (Short, Medium, Long): \")\n",
        "\n",
        "# Getting the feature names from training\n",
        "feature_names = list(X.columns)\n",
        "\n",
        "# Getting top 3 recommendations\n",
        "recommendations = recommend_trip(user_age, user_budget, user_trip_type, scaler, trained_model, feature_names, label_encoders, top_n=3)\n",
        "\n",
        "# Printing the recommendations\n",
        "print(\"\\n✅ Recommended Destinations:\")\n",
        "for i, dest in enumerate(recommendations, 1):\n",
        "    print(f\"   {i}. {dest}\")\n"
      ]
    }
  ],
  "metadata": {
    "colab": {
      "provenance": []
    },
    "kernelspec": {
      "display_name": "Python 3",
      "name": "python3"
    },
    "language_info": {
      "name": "python"
    }
  },
  "nbformat": 4,
  "nbformat_minor": 0
}
